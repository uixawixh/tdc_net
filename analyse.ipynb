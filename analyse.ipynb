{
 "cells": [
  {
   "cell_type": "code",
   "id": "initial_id",
   "metadata": {
    "collapsed": true,
    "ExecuteTime": {
     "end_time": "2024-06-10T14:36:08.922292Z",
     "start_time": "2024-06-10T14:36:08.920152Z"
    }
   },
   "source": [
    "import pandas as pd\n",
    "import numpy as np\n",
    "import matplotlib.pyplot as plt\n",
    "import seaborn as sns"
   ],
   "execution_count": 1,
   "outputs": []
  },
  {
   "metadata": {
    "ExecuteTime": {
     "end_time": "2024-06-10T14:36:09.006798Z",
     "start_time": "2024-06-10T14:36:08.922292Z"
    }
   },
   "cell_type": "code",
   "source": "df = pd.read_csv('models/train_data.zip')",
   "id": "e351acf9c590405f",
   "execution_count": 2,
   "outputs": []
  },
  {
   "metadata": {
    "ExecuteTime": {
     "end_time": "2024-06-10T14:36:09.018096Z",
     "start_time": "2024-06-10T14:36:09.006798Z"
    }
   },
   "cell_type": "code",
   "source": "df",
   "id": "18ba11c585d1ce8a",
   "execution_count": 3,
   "outputs": []
  },
  {
   "metadata": {
    "ExecuteTime": {
     "end_time": "2024-06-10T14:36:09.023465Z",
     "start_time": "2024-06-10T14:36:09.018096Z"
    }
   },
   "cell_type": "code",
   "source": "df.info",
   "id": "952472977ea9588e",
   "execution_count": 4,
   "outputs": []
  },
  {
   "metadata": {
    "ExecuteTime": {
     "end_time": "2024-06-10T14:36:09.097418Z",
     "start_time": "2024-06-10T14:36:09.023465Z"
    }
   },
   "cell_type": "code",
   "source": "df.describe()",
   "id": "bd7f9182c179586c",
   "execution_count": 5,
   "outputs": []
  },
  {
   "metadata": {
    "ExecuteTime": {
     "end_time": "2024-06-10T14:36:23.001892Z",
     "start_time": "2024-06-10T14:36:22.766140Z"
    }
   },
   "cell_type": "code",
   "source": [
    "corr = df.corr()\n",
    "for i in range(len(corr.columns)):\n",
    "    for j in range(len(corr.columns)):\n",
    "        if i == j:\n",
    "            continue\n",
    "        if corr.iloc[i, j] >= 0.95:\n",
    "            print(corr.columns[i], corr.columns[j], corr.iloc[i, j])"
   ],
   "id": "4c7e5ac78119c414",
   "execution_count": 8,
   "outputs": []
  },
  {
   "metadata": {
    "ExecuteTime": {
     "end_time": "2024-06-10T15:50:58.478404Z",
     "start_time": "2024-06-10T15:50:58.307182Z"
    }
   },
   "cell_type": "code",
   "source": [
    "sns.histplot(df['LABEL'], kde=True)\n",
    "plt.plot()"
   ],
   "id": "5eea044ed62e5cdc",
   "execution_count": 10,
   "outputs": []
  },
  {
   "metadata": {},
   "cell_type": "code",
   "execution_count": null,
   "source": "",
   "id": "68d43abde1bea758",
   "outputs": []
  }
 ],
 "metadata": {
  "kernelspec": {
   "display_name": "Python 3",
   "language": "python",
   "name": "python3"
  },
  "language_info": {
   "codemirror_mode": {
    "name": "ipython",
    "version": 2
   },
   "file_extension": ".py",
   "mimetype": "text/x-python",
   "name": "python",
   "nbconvert_exporter": "python",
   "pygments_lexer": "ipython2",
   "version": "2.7.6"
  }
 },
 "nbformat": 4,
 "nbformat_minor": 5
}
